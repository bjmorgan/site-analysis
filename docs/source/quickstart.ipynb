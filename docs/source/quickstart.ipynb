{
 "cells": [
  {
   "cell_type": "code",
   "execution_count": 1,
   "metadata": {
    "tags": [
     "hide-cell"
    ]
   },
   "outputs": [],
   "source": [
    "import matplotlib.pyplot as plt\n",
    "%matplotlib inline\n",
    "%config InlineBackend.figure_format='retina'"
   ]
  },
  {
   "cell_type": "markdown",
   "metadata": {},
   "source": [
    "# Quickstart Guide\n",
    "\n",
    "This guide demonstrates the core functionality of `site_analysis` using a simple example: analysing the diffusion of a single mobile ion through a simple cubic lattice."
   ]
  },
  {
   "cell_type": "markdown",
   "metadata": {},
   "source": [
    "## Example Scenario\n",
    "\n",
    "We'll analyse a short molecular dynamics trajectory where:\n",
    "\n",
    "1. We have a 4×4×4 simple cubic structure with oxygen atoms at the corners\n",
    "2. A single mobile lithium ion moves from one interstitial site to an adjacent site\n",
    "3. We track and analyse this movement using `site_analysis`\n",
    "\n",
    "For this quickstart, we'll use a pre-generated trajectory (available in the examples directory as `simple_cubic_li.xdatcar`). This trajectory contains 11 frames showing a lithium ion moving between interstitial sites in a simple cubic structure."
   ]
  },
  {
   "cell_type": "markdown",
   "metadata": {},
   "source": [
    "## Loading the Structure and Trajectory\n",
    "\n",
    "First, let's load our structure and trajectory using pymatgen:"
   ]
  },
  {
   "cell_type": "code",
   "execution_count": 2,
   "metadata": {},
   "outputs": [
    {
     "name": "stdout",
     "output_type": "stream",
     "text": [
      "Loaded trajectory with 11 frames\n",
      "Structure contains 65 atoms\n",
      "Composition: O64 Li1\n"
     ]
    }
   ],
   "source": [
    "from pymatgen.io.vasp import Xdatcar\n",
    "import numpy as np\n",
    "\n",
    "# Load the trajectory from the XDATCAR file\n",
    "xdatcar = Xdatcar(\"examples/simple_cubic_li.xdatcar\")\n",
    "\n",
    "# Get the structures from the trajectory\n",
    "structures = xdatcar.structures\n",
    "\n",
    "# Get the initial structure\n",
    "structure = structures[0]\n",
    "\n",
    "print(f\"Loaded trajectory with {len(structures)} frames\")\n",
    "print(f\"Structure contains {len(structure)} atoms\")\n",
    "print(f\"Composition: {structure.composition}\")"
   ]
  },
  {
   "cell_type": "markdown",
   "metadata": {},
   "source": [
    "Let's examine the first structure to understand what we're working with:"
   ]
  },
  {
   "cell_type": "code",
   "execution_count": 3,
   "metadata": {},
   "outputs": [
    {
     "name": "stdout",
     "output_type": "stream",
     "text": [
      "Lattice parameters: (16.0, 16.0, 16.0)\n",
      "O: 64.0\n",
      "Li: 1.0\n",
      "Li ion at index 64, position: [0.375 0.375 0.375]\n"
     ]
    }
   ],
   "source": [
    "# Examine the structure\n",
    "print(f\"Lattice parameters: {structure.lattice.abc}\")\n",
    "\n",
    "# Show the species and their counts\n",
    "for element, count in structure.composition.items():\n",
    "    print(f\"{element}: {count}\")\n",
    "\n",
    "# Find the position of the Li ion\n",
    "for i, site in enumerate(structure):\n",
    "    if site.species_string == \"Li\":\n",
    "        print(f\"Li ion at index {i}, position: {site.frac_coords}\")"
   ]
  },
  {
   "cell_type": "markdown",
   "metadata": {},
   "source": [
    "Let's also look at how the Li ion moves during the trajectory:"
   ]
  },
  {
   "cell_type": "code",
   "execution_count": 4,
   "metadata": {},
   "outputs": [
    {
     "name": "stdout",
     "output_type": "stream",
     "text": [
      "Li positions throughout trajectory:\n",
      "Frame 1: [0.375 0.375 0.375]\n",
      "Frame 2: [0.4   0.375 0.375]\n",
      "Frame 3: [0.425 0.375 0.375]\n",
      "Frame 4: [0.45  0.375 0.375]\n",
      "Frame 5: [0.475 0.375 0.375]\n",
      "Frame 6: [0.5   0.375 0.375]\n",
      "Frame 7: [0.525 0.375 0.375]\n",
      "Frame 8: [0.55  0.375 0.375]\n",
      "Frame 9: [0.575 0.375 0.375]\n",
      "Frame 10: [0.6   0.375 0.375]\n",
      "Frame 11: [0.625 0.375 0.375]\n"
     ]
    }
   ],
   "source": [
    "# Track the Li ion position throughout the trajectory\n",
    "li_positions = []\n",
    "for struct in structures:\n",
    "    for site in struct:\n",
    "        if site.species_string == \"Li\":\n",
    "            li_positions.append(site.frac_coords)\n",
    "            break\n",
    "            \n",
    "# Print the Li positions\n",
    "print(\"Li positions throughout trajectory:\")\n",
    "for i, pos in enumerate(li_positions):\n",
    "    print(f\"Frame {i+1}: {pos}\")"
   ]
  },
  {
   "cell_type": "markdown",
   "metadata": {},
   "source": [
    "## Defining Sites\n",
    "\n",
    "Now we'll define the sites we want to track. In this case, we'll create spherical sites at the centers of each unit cell in our simple cubic structure:"
   ]
  },
  {
   "cell_type": "code",
   "execution_count": 5,
   "metadata": {},
   "outputs": [
    {
     "name": "stdout",
     "output_type": "stream",
     "text": [
      "Defined 64 interstitial sites\n",
      "Site 0: center=[0.125 0.125 0.125], radius=2.0, label=Site_0_0_0\n",
      "Site 1: center=[0.125 0.125 0.375], radius=2.0, label=Site_0_0_1\n",
      "Site 2: center=[0.125 0.125 0.625], radius=2.0, label=Site_0_0_2\n",
      "Site 3: center=[0.125 0.125 0.875], radius=2.0, label=Site_0_0_3\n",
      "Site 4: center=[0.125 0.375 0.125], radius=2.0, label=Site_0_1_0\n"
     ]
    }
   ],
   "source": [
    "from site_analysis import TrajectoryBuilder\n",
    "\n",
    "# Define the centers of our interstitial sites (at the centers of unit cells)\n",
    "# For our 4×4×4 structure, we need sites at the centers of each unit cell (4×4×4 sites)\n",
    "site_centers = []\n",
    "for i in range(4):\n",
    "    for j in range(4):\n",
    "        for k in range(4):\n",
    "            site_centers.append(np.array([i + 0.5, j + 0.5, k + 0.5])/4)\n",
    "\n",
    "# Set a radius for each site equal to half the unit cell length (2.0 Å)\n",
    "# This ensures the sites meet exactly at the boundaries between unit cells\n",
    "# without overlapping\n",
    "site_radii = [2.0] * len(site_centers)\n",
    "\n",
    "# Create labels for the sites (optional but helpful for analysis)\n",
    "site_labels = [f\"Site_{i}_{j}_{k}\" for i in range(4) for j in range(4) for k in range(4)]\n",
    "\n",
    "print(f\"Defined {len(site_centers)} interstitial sites\")\n",
    "\n",
    "# Print the first few sites\n",
    "for i in range(5):\n",
    "    print(f\"Site {i}: center={site_centers[i]}, radius={site_radii[i]}, label={site_labels[i]}\")"
   ]
  },
  {
   "cell_type": "markdown",
   "metadata": {},
   "source": [
    "## Creating the Trajectory Analysis\n",
    "\n",
    "Now let's use the `site_analysis` package to analyse our trajectory. The `TrajectoryBuilder` class provides a convenient way to set up our analysis:"
   ]
  },
  {
   "cell_type": "code",
   "execution_count": 6,
   "metadata": {},
   "outputs": [
    {
     "name": "stderr",
     "output_type": "stream",
     "text": [
      "100%|████████████████████████████████████████████████████████████████████████████████████████████████████| 11/11 [00:00<00:00, 2866.92 steps/s]"
     ]
    },
    {
     "name": "stdout",
     "output_type": "stream",
     "text": [
      "Analysed trajectory of 11 frames\n"
     ]
    },
    {
     "name": "stderr",
     "output_type": "stream",
     "text": [
      "\n"
     ]
    }
   ],
   "source": [
    "# Use the builder pattern to create our trajectory analysis\n",
    "trajectory = (TrajectoryBuilder()\n",
    "             .with_structure(structure)  # Initial structure for reference\n",
    "             .with_mobile_species(\"Li\")  # Specify which species we're tracking\n",
    "             .with_spherical_sites(      # Define our spherical interstitial sites\n",
    "                 centres=site_centers,\n",
    "                 radii=site_radii,\n",
    "                 labels=site_labels)\n",
    "             .build())\n",
    "\n",
    "# Process the entire trajectory\n",
    "# The progress=True flag shows a progress bar\n",
    "trajectory.trajectory_from_structures(structures, progress=True)\n",
    "\n",
    "print(f\"Analysed trajectory of {len(trajectory)} frames\")"
   ]
  },
  {
   "cell_type": "code",
   "execution_count": 7,
   "metadata": {},
   "outputs": [
    {
     "name": "stdout",
     "output_type": "stream",
     "text": [
      "At the start, Site_1_1_1 (site index 21) is occupied by the Li ion (atom index 64)\n"
     ]
    }
   ],
   "source": [
    "# 1. Query which site is occupied at the start of the simulation\n",
    "\n",
    "timestep = 0\n",
    "first_frame = trajectory.sites_trajectory[timestep]\n",
    "occupied_sites_start = [i for i, atoms in enumerate(first_frame) if atoms]\n",
    "if occupied_sites_start:\n",
    "    start_site = trajectory.site_by_index(occupied_sites_start[0])\n",
    "    print(f\"At the start, {start_site.label} (site index {start_site.index}) is occupied by the Li ion (atom index {start_site.trajectory[timestep][0]})\")\n",
    "else:\n",
    "    print(\"No sites occupied at the start\")"
   ]
  },
  {
   "cell_type": "code",
   "execution_count": 8,
   "metadata": {},
   "outputs": [
    {
     "name": "stdout",
     "output_type": "stream",
     "text": [
      "At the end, Site_2_1_1 (site index 37) is occupied by Li ion (atom index 64)\n"
     ]
    }
   ],
   "source": [
    "# 2. Query which site is occupied at the end of the simulation\n",
    "\n",
    "timestep = len(trajectory) - 1\n",
    "last_frame = trajectory.sites_trajectory[timestep]\n",
    "occupied_sites_end = [i for i, atoms in enumerate(last_frame) if atoms]\n",
    "if occupied_sites_end:\n",
    "    end_site = trajectory.site_by_index(occupied_sites_end[0])\n",
    "    print(f\"At the end, {end_site.label} (site index {end_site.index}) is occupied by Li ion (atom index {end_site.trajectory[timestep][0]})\")\n",
    "else:\n",
    "    print(\"No sites occupied at the end\")"
   ]
  },
  {
   "cell_type": "code",
   "execution_count": 9,
   "metadata": {},
   "outputs": [
    {
     "name": "stdout",
     "output_type": "stream",
     "text": [
      "Li ion trajectory (site indices over time):\n",
      "[21, 21, 21, 21, 21, 21, 37, 37, 37, 37, 37]\n"
     ]
    }
   ],
   "source": [
    "# 3. Query the mobile ion trajectory (site indices over time)\n",
    "\n",
    "li_atom = trajectory.atoms[0]  # We only have one Li atom\n",
    "print(\"Li ion trajectory (site indices over time):\")\n",
    "print(li_atom.trajectory)"
   ]
  },
  {
   "cell_type": "code",
   "execution_count": 10,
   "metadata": {},
   "outputs": [
    {
     "name": "stdout",
     "output_type": "stream",
     "text": [
      "Trajectories for the occupied sites:\n",
      "Site_1_1_1 trajectory: [[64], [64], [64], [64], [64], [64], [], [], [], [], []]\n",
      "Site_2_1_1 trajectory: [[], [], [], [], [], [], [64], [64], [64], [64], [64]]\n"
     ]
    }
   ],
   "source": [
    "# 4. Query the trajectories for the two sites involved\n",
    "# Find the two sites that were ever occupied\n",
    "\n",
    "ever_occupied_sites = []\n",
    "for site in trajectory.sites:\n",
    "    if any(site.trajectory):\n",
    "        ever_occupied_sites.append(site)\n",
    "        \n",
    "print(\"Trajectories for the occupied sites:\")\n",
    "for site in ever_occupied_sites:\n",
    "    print(f\"{site.label} trajectory: {site.trajectory}\")\n",
    "# This shows when the site was occupied (empty list = unoccupied, list with atom indices = occupied)"
   ]
  },
  {
   "cell_type": "code",
   "execution_count": 11,
   "metadata": {},
   "outputs": [
    {
     "name": "stdout",
     "output_type": "stream",
     "text": [
      "Site_1_1_1 transitions:\n",
      "    -> Site_2_1_1 x 1.\n",
      "Site_2_1_1 transitions:\n",
      "    No transitions\n"
     ]
    }
   ],
   "source": [
    "# 5. Query the transitions between sites\n",
    "\n",
    "for site in ever_occupied_sites:\n",
    "    print(f\"{site.label} transitions:\")\n",
    "    if site.transitions:\n",
    "        for index, number_of_transitions in site.transitions.items():\n",
    "            print(f\"    -> {trajectory.site_by_index(index).label} x {number_of_transitions}.\")\n",
    "    else:\n",
    "        print(f\"    No transitions\")\n",
    "    "
   ]
  },
  {
   "cell_type": "markdown",
   "metadata": {},
   "source": [
    "## Visualising the Results\n",
    "\n",
    "For this simple example, a basic visualisation showing the ion movement between the two sites is sufficient:"
   ]
  },
  {
   "cell_type": "code",
   "execution_count": 12,
   "metadata": {},
   "outputs": [
    {
     "data": {
      "image/png": "[encoded data removed]",
      "text/plain": [
       "<Figure size 500x300 with 1 Axes>"
      ]
     },
     "metadata": {
      "image/png": {
       "height": 292,
       "width": 490
      }
     },
     "output_type": "display_data"
    }
   ],
   "source": [
    "import matplotlib.pyplot as plt\n",
    "\n",
    "# Visualise the Li ion's site occupation over time\n",
    "plt.figure(figsize=(5, 3))\n",
    "\n",
    "# Get the site indices the Li ion occupied at each timestep\n",
    "li_atom = trajectory.atoms[0]  # We only have one Li atom\n",
    "site_indices = li_atom.trajectory\n",
    "\n",
    "# Plot the trajectory\n",
    "timesteps = range(len(site_indices))\n",
    "plt.plot(timesteps, site_indices, 'o-', linewidth=2, markersize=8)\n",
    "\n",
    "# Format the plot\n",
    "plt.xlabel('Timestep')\n",
    "plt.ylabel('Site Index')\n",
    "plt.title('Li Ion Movement Between Sites')\n",
    "plt.grid(True, linestyle='--', alpha=0.7)\n",
    "if 'start_site' in locals() and 'end_site' in locals():\n",
    "    plt.yticks([start_site.index, end_site.index])  # Only show the relevant site indices\n",
    "plt.tight_layout()\n",
    "plt.show()"
   ]
  },
  {
   "cell_type": "markdown",
   "metadata": {},
   "source": [
    "## Alternative Site Types\n",
    "\n",
    "In the example above, we used spherical sites, which are intuitive but have a key limitation: they do not completely fill space. Even with appropriately sized radii, there will be regions between spheres that are not assigned to any site, and with larger radii, spheres can overlap, resulting in some regions being assigned to multiple sites.\n",
    "\n",
    "`site_analysis` provides alternative site types that offer complete spatial discretization:"
   ]
  },
  {
   "cell_type": "code",
   "execution_count": 13,
   "metadata": {},
   "outputs": [
    {
     "name": "stderr",
     "output_type": "stream",
     "text": [
      "100%|███████████████████████████████████████████████████████████████████████████████████████████████████| 11/11 [00:00<00:00, 11943.40 steps/s]"
     ]
    },
    {
     "name": "stdout",
     "output_type": "stream",
     "text": [
      "Li ion trajectory with Voronoi sites (site indices over time):\n",
      "[85, 85, 85, 85, 85, 85, 101, 101, 101, 101, 101]\n"
     ]
    },
    {
     "name": "stderr",
     "output_type": "stream",
     "text": [
      "\n"
     ]
    }
   ],
   "source": [
    "# Example: Using Voronoi sites instead of spherical sites\n",
    "# Voronoi sites divide space according to proximity to site centres,\n",
    "# creating a complete tessellation with no gaps or overlaps\n",
    "\n",
    "# Create a trajectory using Voronoi sites\n",
    "trajectory = (TrajectoryBuilder()\n",
    "             .with_structure(structure)  # Initial structure for reference\n",
    "             .with_mobile_species(\"Li\")  # Specify which species we're tracking\n",
    "             .with_voronoi_sites(      # Define our spherical interstitial sites\n",
    "                 centres=site_centers)\n",
    "             .build())\n",
    "\n",
    "# Analyse the trajectory\n",
    "trajectory.trajectory_from_structures(structures, progress=True)\n",
    "\n",
    "# Compare the Li ion trajectory using Voronoi sites\n",
    "li_atom_voronoi = trajectory.atoms[0]  # We only have one Li atom\n",
    "print(\"Li ion trajectory with Voronoi sites (site indices over time):\")\n",
    "print(li_atom_voronoi.trajectory)"
   ]
  },
  {
   "cell_type": "code",
   "execution_count": 14,
   "metadata": {},
   "outputs": [
    {
     "name": "stderr",
     "output_type": "stream",
     "text": [
      "100%|█████████████████████████████████████████████████████████████████████████████████████████████████████| 11/11 [00:00<00:00, 744.60 steps/s]"
     ]
    },
    {
     "name": "stdout",
     "output_type": "stream",
     "text": [
      "Li ion trajectory with polyhedral sites (site indices over time):\n",
      "[149, 149, 149, 149, 149, 149, 165, 165, 165, 165, 165]\n"
     ]
    },
    {
     "name": "stderr",
     "output_type": "stream",
     "text": [
      "\n"
     ]
    }
   ],
   "source": [
    "# Example: Using polyhedral sites for more complex structures\n",
    "# Polyhedral sites are defined by a set of vertex atoms forming a polyhedron\n",
    "# and provide a complete spatial discretisation based on the crystal structure\n",
    "\n",
    "# Create a reference structure with just the framework\n",
    "reference_structure = structure.copy()\n",
    "# Remove the Li ion\n",
    "reference_structure.remove_species([\"Li\"])\n",
    "# Add dummy Li ions to every polyhedron centre\n",
    "for c in site_centers:\n",
    "    reference_structure.append(species=\"Li\", coords=c)\n",
    "\n",
    "\n",
    "trajectory = (TrajectoryBuilder()\n",
    "             .with_structure(structure)  # Initial structure for reference\n",
    "             .with_reference_structure(reference_structure)\n",
    "             .with_mobile_species(\"Li\")  # Specify which species we're tracking\n",
    "             .with_polyhedral_sites(     # Define our spherical interstitial sites\n",
    "                 centre_species=\"Li\",\n",
    "                 vertex_species=\"O\",\n",
    "                 cutoff=4.0,\n",
    "                 n_vertices=8,\n",
    "                 label=\"Cubic\")\n",
    "             .with_alignment_options(align_species=\"O\")\n",
    "             .build())\n",
    "\n",
    "# Analyse the trajectory\n",
    "trajectory.trajectory_from_structures(structures, progress=True)\n",
    "\n",
    "# Compare the Li ion trajectory using polyhedral sites\n",
    "li_atom_poly = trajectory.atoms[0]  # We only have one Li atom\n",
    "print(\"Li ion trajectory with polyhedral sites (site indices over time):\")\n",
    "print(li_atom_poly.trajectory)"
   ]
  },
  {
   "cell_type": "markdown",
   "metadata": {},
   "source": [
    "## Summary\n",
    "\n",
    "In this quickstart guide, we've:\n",
    "\n",
    "1. Loaded an existing trajectory of a simple cubic structure with a mobile lithium ion\n",
    "2. Defined interstitial sites at the centers of the unit cells\n",
    "3. Used `site_analysis` to track site occupations throughout the trajectory\n",
    "4. Analyzed the results to understand ion movement patterns\n",
    "5. Visualized the diffusion pathway and site occupations\n",
    "6. Demonstrated alternative site types for different analysis scenarios\n",
    "\n",
    "This demonstrates the core functionality of `site_analysis` for tracking and analyzing ionic diffusion in crystalline materials. The same approach can be extended to more complex structures and longer trajectories with multiple mobile ions."
   ]
  }
 ],
 "metadata": {
  "celltoolbar": "Tags",
  "kernelspec": {
   "display_name": "Python 3 (ipykernel)",
   "language": "python",
   "name": "python3"
  },
  "language_info": {
   "codemirror_mode": {
    "name": "ipython",
    "version": 3
   },
   "file_extension": ".py",
   "mimetype": "text/x-python",
   "name": "python",
   "nbconvert_exporter": "python",
   "pygments_lexer": "ipython3",
   "version": "3.11.1"
  }
 },
 "nbformat": 4,
 "nbformat_minor": 4
}
