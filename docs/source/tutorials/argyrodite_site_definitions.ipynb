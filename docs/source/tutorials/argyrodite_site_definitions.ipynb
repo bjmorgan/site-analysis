{
 "cells": [
  {
   "cell_type": "markdown",
   "metadata": {},
   "source": [
    "# Using the Builder Pattern with Complex Crystal Structures\n",
    "\n",
    "## Introduction\n",
    "\n",
    "The site_analysis package's builder pattern allows the analysis of \n",
    "complex crystal structures with multiple crystallographically distinct sites that mobile ions can occupy.\n",
    "This tutorial demonstrates how to:\n",
    "\n",
    "1. Define multiple crystallographically distinct site types in the same structure\n",
    "2. Handle structure alignment between reference and target structures \n",
    "3. Map sites between structures with different chemical compositions\n",
    "4. Analyze how site occupations change with chemical disorder\n",
    "\n",
    "## Case Study: Argyrodite Solid Electrolytes\n",
    "\n",
    "We will apply these techniques to analyse the Li-ion distribution over sites in the argyrodite Li<sub>6</sub>PS<sub>5</sub>Cl.\n",
    "\n",
    "The argyrodite structure is an example of a tetrahedrally close-packed structure, where the anions (S<sup>2&minus;</sup>, Cl<sup>&minus;</sup>) form the vertices of tetrahedra whose centers constitute interstitial sites. In the argyrodite structure, these tetrahedral sites can be classified into six crystallographically distinct types, numbered 0 to 5.\n",
    "\n",
    "In Li<sub>6</sub>PS<sub>5</sub>Cl:\n",
    "- Type 0 sites are occupied by phosphorus atoms (forming PS<sub>4</sub><sup>3&minus;</sup> tetrahedra)\n",
    "- Types 1-5 sites, in principle, are available for lithium occupation as lithium diffuses through the anion host framework.\n",
    "\n",
    "The structure derives from an MgCu<sub>2</sub>-type Laves phase arrangement. However, in argyrodites, the anionic framework adopts a modified configuration where the Fd3̄m 8a sites split into symmetry-inequivalent F4̄3m 4a and 4c sites. In Li<sub>6</sub>PS<sub>5</sub>Cl, these sites are occupied by a mix of sulfur and chlorine atoms.\n",
    "\n",
    "This anion disorder is critically important to the functional properties of argyrodites. The disorder modifies the local coordination environments around the Li sites, affecting the distribution of lithium over the available tetrahedral sites and creating new diffusion pathways through the structure. Increased disorder has been shown to activate previously unfavorable site types, particularly type 4 sites, leading to enhanced ionic conductivity.\n",
    "\n",
    "In this tutorial, we will analyse data from three MD simulations with different degrees of S/Cl site exchange (0%, 50%, and 100%), and calculate the time-average distribution of Li-ions over the five interstitial site types. For more details on the mechanism of superionic conduction in these materials, see [this paper](https://doi.org/10.1021/acs.chemmater.0c03738)."
   ]
  },
  {
   "cell_type": "code",
   "execution_count": 1,
   "metadata": {
    "tags": []
   },
   "outputs": [],
   "source": [
    "# Import necessary libraries\n",
    "from pymatgen.io.vasp import Poscar, Xdatcar\n",
    "from pymatgen.core import Structure, Lattice\n",
    "import numpy as np\n",
    "from collections import Counter\n",
    "from site_analysis import TrajectoryBuilder"
   ]
  },
  {
   "cell_type": "markdown",
   "metadata": {},
   "source": [
    "## Creating a Reference Structure\n",
    "\n",
    "To define multiple site types, we need a reference structure that contains distinct atoms at each site. This approach allows us to define each tetrahedral site type separately using the TrajectoryBuilder's polyhedral sites functionality."
   ]
  },
  {
   "cell_type": "code",
   "execution_count": 2,
   "metadata": {},
   "outputs": [
    {
     "name": "stdout",
     "output_type": "stream",
     "text": [
      "Reference structure contains 1664 atoms\n",
      "Composition: K384 Na32 Li128 Mg768 Be128 P32 S192\n"
     ]
    }
   ],
   "source": [
    "# Create a reference structure with the argyrodite topology\n",
    "# The key approach: use different atom types to differentiate each site type\n",
    "# - P occupies the t0 tetrahedra (phosphorus in PS4 units)\n",
    "# - Different dummy atoms (Li, Mg, Na, Be, K) occupy the t1-t5 tetrahedra\n",
    "#   to allow us to define each tetrahedral site type separately\n",
    "# - S occupies all the anion sites\n",
    "\n",
    "lattice = Lattice.cubic(a=10.155)  # Use the experimental lattice parameter\n",
    "\n",
    "coords = np.array(\n",
    "    [[0.5,     0.5,     0.5],     # P (t0) - PS4 tetrahedra positions\n",
    "     [0.9,     0.9,     0.6],     # t1 - first type of Li site (represented by Li atoms)\n",
    "     [0.23,    0.92,    0.09],    # t2 - second type of Li site (represented by Mg atoms)\n",
    "     [0.25,    0.25,    0.25],    # t3 - third type of Li site (represented by Na atoms)\n",
    "     [0.15,    0.15,    0.15],    # t4 - fourth type of Li site (represented by Be atoms)\n",
    "     [0.0,     0.183,   0.183],   # t5 - fifth type of Li site (represented by K atoms)\n",
    "     [0.0,     0.0,     0.0],     # S - anion position (4a site)\n",
    "     [0.75,    0.25,    0.25],    # S - anion position (4c site)\n",
    "     [0.11824, 0.11824, 0.38176]] # S - anion position (16e site)\n",
    ") \n",
    "\n",
    "# Create the reference structure with F-43m space group symmetry\n",
    "# and replicate it as a 2x2x2 supercell to match the MD simulations\n",
    "reference_structure = Structure.from_spacegroup(\n",
    "    sg=\"F-43m\",\n",
    "    lattice=lattice,\n",
    "    species=['P', 'Li', 'Mg', 'Na', 'Be', 'K', 'S', 'S', 'S'],\n",
    "    coords=coords) * [2, 2, 2]\n",
    "\n",
    "print(f\"Reference structure contains {len(reference_structure)} atoms\")\n",
    "print(f\"Composition: {reference_structure.composition.formula}\")"
   ]
  },
  {
   "cell_type": "markdown",
   "metadata": {},
   "source": [
    "## Implementing the Trajectory Builder\n",
    "\n",
    "The key part of this tutorial is the implementation of the `build_trajectory` function, which demonstrates how to use the builder pattern to create a Trajectory object with multiple site types and proper species mapping."
   ]
  },
  {
   "cell_type": "code",
   "execution_count": 3,
   "metadata": {},
   "outputs": [],
   "source": [
    "def build_trajectory(structure):\n",
    "    \"\"\"\n",
    "    Build a Trajectory object for analyzing Li ion diffusion in argyrodite structures.\n",
    "    \n",
    "    This function demonstrates advanced usage of the builder pattern:\n",
    "    1. Defining multiple site types (5 different tetrahedral sites)\n",
    "    2. Using structure alignment with specific alignment species\n",
    "    3. Mapping between different species in reference and target structures\n",
    "    \n",
    "    Args:\n",
    "        structure: A pymatgen Structure object from the MD trajectory\n",
    "        \n",
    "    Returns:\n",
    "        A site_analysis Trajectory object configured for argyrodite analysis\n",
    "    \"\"\"\n",
    "    builder = TrajectoryBuilder()\n",
    "    \n",
    "    # 1. Set the reference and target structures\n",
    "    builder.with_reference_structure(reference_structure) \n",
    "    builder.with_structure(structure)\n",
    "    \n",
    "    # 2. Specify that Li is the mobile species we want to track\n",
    "    builder.with_mobile_species('Li')\n",
    "    \n",
    "    # 3. Define 5 different types of tetrahedral sites that Li can occupy\n",
    "    # Note how we call with_polyhedral_sites multiple times with different parameters\n",
    "    \n",
    "    # Type 1 sites (represented by Li in the reference)\n",
    "    builder.with_polyhedral_sites( \n",
    "        centre_species='Li',  # The type 1 sites have Li occupying them in our reference\n",
    "        vertex_species='S',   # The vertices of these tetrahedra are S atoms\n",
    "        cutoff=3.0,           # Distance cutoff for finding vertices\n",
    "        n_vertices=4,         # Each site has 4 vertices (tetrahedral)\n",
    "        label='type 1')       # Label for these sites\n",
    "    \n",
    "    # Type 2 sites (represented by Mg in the reference)\n",
    "    builder.with_polyhedral_sites(\n",
    "        centre_species='Mg',  # Type 2 sites have Mg in the reference\n",
    "        vertex_species='S',\n",
    "        cutoff=3.0,\n",
    "        n_vertices=4,\n",
    "        label='type 2')\n",
    "    \n",
    "    # Type 3 sites (represented by Na in the reference)\n",
    "    builder.with_polyhedral_sites(\n",
    "        centre_species='Na',  # Type 3 sites have Na in the reference\n",
    "        vertex_species='S',\n",
    "        cutoff=3.0,\n",
    "        n_vertices=4,\n",
    "        label='type 3')\n",
    "    \n",
    "    # Type 4 sites (represented by Be in the reference)\n",
    "    builder.with_polyhedral_sites(\n",
    "        centre_species='Be',  # Type 4 sites have Be in the reference\n",
    "        vertex_species='S',\n",
    "        cutoff=3.0,\n",
    "        n_vertices=4,\n",
    "        label='type 4')\n",
    "    \n",
    "    # Type 5 sites (represented by K in the reference)\n",
    "    builder.with_polyhedral_sites(\n",
    "        centre_species='K',   # Type 5 sites have K in the reference\n",
    "        vertex_species='S',\n",
    "        cutoff=3.0,\n",
    "        n_vertices=4,\n",
    "        label='type 5')\n",
    "    \n",
    "    # 4. Configure the alignment between reference and target structures\n",
    "    # This is critical when structures might have different origins or when\n",
    "    # we need to ensure correct mapping between site definitions\n",
    "    builder.with_structure_alignment(align_species='P') \n",
    "    \n",
    "    # 5. Configure mapping between different species\n",
    "    # This is crucial for handling anion disorder (S/Cl site exchange)\n",
    "    # The reference structure has all-S anions, but the real structures\n",
    "    # have a mix of S and Cl at these positions\n",
    "    builder.with_site_mapping(mapping_species=['S', 'Cl']) \n",
    "    \n",
    "    # 6. Build and return the Trajectory object\n",
    "    trajectory = builder.build()\n",
    "    return trajectory"
   ]
  },
  {
   "cell_type": "markdown",
   "metadata": {},
   "source": [
    "## Analysis Function\n",
    "\n",
    "This function analyzes the site occupations from the trajectory data, calculating the percentage of time that Li ions spend in each site type."
   ]
  },
  {
   "cell_type": "code",
   "execution_count": 4,
   "metadata": {},
   "outputs": [],
   "source": [
    "def print_site_occupations(trajectory, title=None):\n",
    "    \"\"\"\n",
    "    Print the percentage occupation for each site type in the trajectory.\n",
    "    \n",
    "    Args:\n",
    "        trajectory: A Trajectory object containing atoms and sites information\n",
    "        title: Optional title to include in the output\n",
    "    \"\"\"\n",
    "    site_types = ['type 5', 'type 4', 'type 3', 'type 2', 'type 1']\n",
    "    \n",
    "    # Collect all site labels from the atom trajectories\n",
    "    site_labels = []\n",
    "    for atom in trajectory.atoms:\n",
    "        for site_idx in atom.trajectory:\n",
    "            if site_idx is not None:  # Check that the atom is in a site\n",
    "                site_labels.append(trajectory.sites[site_idx].label)\n",
    "    \n",
    "    # Count occurrences of each site type\n",
    "    c = Counter(site_labels)\n",
    "    \n",
    "    # Calculate and print percentages\n",
    "    total_sites = sum(c.values())\n",
    "    \n",
    "    if title:\n",
    "        print(f\"\\nSite occupation analysis - {title}:\")\n",
    "        print(\"-\" * 40)\n",
    "    \n",
    "    for t in site_types:\n",
    "        percentage = (c.get(t, 0) / total_sites * 100) if total_sites > 0 else 0\n",
    "        print(f'{t}: {percentage:.2f}%')"
   ]
  },
  {
   "cell_type": "markdown",
   "metadata": {},
   "source": [
    "## Analysis of Argyrodite with Different Levels of Anion Disorder\n",
    "\n",
    "Now we'll analyze three different Li<sub>6</sub>PS<sub>5</sub>Cl systems with varying degrees of S/Cl anion disorder."
   ]
  },
  {
   "cell_type": "markdown",
   "metadata": {},
   "source": [
    "### 1. Fully Ordered Structure (0% Anion Site Exchange)"
   ]
  },
  {
   "cell_type": "code",
   "execution_count": 5,
   "metadata": {},
   "outputs": [
    {
     "name": "stdout",
     "output_type": "stream",
     "text": [
      "==================================================\n",
      "Analyzing Li6PS5Cl with 0% anion site exchange (fully ordered)\n",
      "==================================================\n",
      "Loaded trajectory with 140 frames\n"
     ]
    },
    {
     "name": "stderr",
     "output_type": "stream",
     "text": [
      "100%|█████████████████████████████████████████████████████████████████████| 140/140 [01:25<00:00,  1.64 steps/s]"
     ]
    },
    {
     "name": "stdout",
     "output_type": "stream",
     "text": [
      "\n",
      "Site occupation analysis - 0% anion disorder:\n",
      "----------------------------------------\n",
      "type 5: 80.20%\n",
      "type 4: 0.02%\n",
      "type 3: 0.00%\n",
      "type 2: 19.78%\n",
      "type 1: 0.01%\n"
     ]
    },
    {
     "name": "stderr",
     "output_type": "stream",
     "text": [
      "\n"
     ]
    }
   ],
   "source": [
    "# Analyze Li6PS5Cl with fully ordered anion sites (0% site exchange)\n",
    "print(\"=\" * 50)\n",
    "print(\"Analyzing Li6PS5Cl with 0% anion site exchange (fully ordered)\")\n",
    "print(\"=\" * 50)\n",
    "\n",
    "md_structures = Xdatcar('data/Li6PS5Cl_0p_XDATCAR.gz').structures\n",
    "print(f\"Loaded trajectory with {len(md_structures)} frames\")\n",
    "\n",
    "# Build trajectory and analyze structures\n",
    "trajectory_0p = build_trajectory(md_structures[0])\n",
    "trajectory_0p.trajectory_from_structures(md_structures, progress=True)\n",
    "\n",
    "# Analyze site occupations\n",
    "print_site_occupations(trajectory_0p, \"0% anion disorder\")"
   ]
  },
  {
   "cell_type": "markdown",
   "metadata": {},
   "source": [
    "### 2. Partially Disordered Structure (50% Anion Site Exchange)"
   ]
  },
  {
   "cell_type": "code",
   "execution_count": 6,
   "metadata": {},
   "outputs": [
    {
     "name": "stdout",
     "output_type": "stream",
     "text": [
      "\n",
      "==================================================\n",
      "Analyzing Li6PS5Cl with 50% anion site exchange (maximally disordered)\n",
      "==================================================\n",
      "Loaded trajectory with 140 frames\n"
     ]
    },
    {
     "name": "stderr",
     "output_type": "stream",
     "text": [
      "100%|█████████████████████████████████████████████████████████████████████| 140/140 [01:16<00:00,  1.84 steps/s]"
     ]
    },
    {
     "name": "stdout",
     "output_type": "stream",
     "text": [
      "\n",
      "Site occupation analysis - 50% anion disorder:\n",
      "----------------------------------------\n",
      "type 5: 65.92%\n",
      "type 4: 2.63%\n",
      "type 3: 0.00%\n",
      "type 2: 31.43%\n",
      "type 1: 0.02%\n"
     ]
    },
    {
     "name": "stderr",
     "output_type": "stream",
     "text": [
      "\n"
     ]
    }
   ],
   "source": [
    "# Analyze Li6PS5Cl with 50% anion site exchange (maximally disordered)\n",
    "print(\"\\n\" + \"=\" * 50)\n",
    "print(\"Analyzing Li6PS5Cl with 50% anion site exchange (maximally disordered)\")\n",
    "print(\"=\" * 50)\n",
    "\n",
    "md_structures = Xdatcar('data/Li6PS5Cl_50p_XDATCAR.gz').structures\n",
    "print(f\"Loaded trajectory with {len(md_structures)} frames\")\n",
    "\n",
    "# Build trajectory and analyze structures\n",
    "trajectory_50p = build_trajectory(md_structures[0])\n",
    "trajectory_50p.trajectory_from_structures(md_structures, progress=True)\n",
    "\n",
    "# Analyze site occupations\n",
    "print_site_occupations(trajectory_50p, \"50% anion disorder\")"
   ]
  },
  {
   "cell_type": "markdown",
   "metadata": {},
   "source": [
    "### 3. Completely Inverted Structure (100% Anion Site Exchange)"
   ]
  },
  {
   "cell_type": "code",
   "execution_count": null,
   "metadata": {},
   "outputs": [
    {
     "name": "stdout",
     "output_type": "stream",
     "text": [
      "\n",
      "==================================================\n",
      "Analyzing Li6PS5Cl with 100% anion site exchange (complete antisites)\n",
      "==================================================\n",
      "Loaded trajectory with 140 frames\n"
     ]
    },
    {
     "name": "stderr",
     "output_type": "stream",
     "text": [
      " 63%|████████████████████████████████████████████                          | 88/140 [00:51<00:33,  1.54 steps/s]"
     ]
    }
   ],
   "source": [
    "# Analyze Li6PS5Cl with 100% anion site exchange (complete anion antisites)\n",
    "print(\"\\n\" + \"=\" * 50)\n",
    "print(\"Analyzing Li6PS5Cl with 100% anion site exchange (complete antisites)\")\n",
    "print(\"=\" * 50)\n",
    "\n",
    "md_structures = Xdatcar('data/Li6PS5Cl_100p_XDATCAR.gz').structures\n",
    "print(f\"Loaded trajectory with {len(md_structures)} frames\")\n",
    "\n",
    "# Build trajectory and analyze structures\n",
    "trajectory_100p = build_trajectory(md_structures[0])\n",
    "trajectory_100p.trajectory_from_structures(md_structures, progress=True)\n",
    "\n",
    "# Analyze site occupations\n",
    "print_site_occupations(trajectory_100p, \"100% anion disorder\")"
   ]
  },
  {
   "cell_type": "markdown",
   "metadata": {},
   "source": [
    "## Summary\n",
    "\n",
    "This tutorial demonstrated advanced usage of the site_analysis builder pattern to analyze a complex structure with multiple site types and chemical disorder.\n",
    "\n",
    "Key findings from our site occupation analysis:\n",
    "\n",
    "1. In the ordered structure (0% exchange):\n",
    "   - Li ions predominantly occupy type 5 sites (~80%)\n",
    "   - Type 2 sites are the secondary preference (~20%)\n",
    "   - Almost no occupation of other site types\n",
    "\n",
    "2. With increasing disorder (50% and 100% exchange):\n",
    "   - Type 5 site occupation decreases\n",
    "   - Type 2 site occupation increases\n",
    "   - Type 4 site occupation emerges and grows\n",
    "   \n",
    "The builder pattern allowed us to:\n",
    "1. Define and analyze 5 distinct tetrahedral site types simultaneously\n",
    "2. Handle alignment between reference and target structures\n",
    "3. Map between different species (S/Cl) in disordered structures\n",
    "\n",
    "This approach is applicable to many complex materials where multiple site types must be tracked and where chemical disorder is present."
   ]
  }
 ],
 "metadata": {
  "kernelspec": {
   "display_name": "Python 3 (ipykernel)",
   "language": "python",
   "name": "python3"
  },
  "language_info": {
   "codemirror_mode": {
    "name": "ipython",
    "version": 3
   },
   "file_extension": ".py",
   "mimetype": "text/x-python",
   "name": "python",
   "nbconvert_exporter": "python",
   "pygments_lexer": "ipython3",
   "version": "3.11.1"
  }
 },
 "nbformat": 4,
 "nbformat_minor": 4
}
