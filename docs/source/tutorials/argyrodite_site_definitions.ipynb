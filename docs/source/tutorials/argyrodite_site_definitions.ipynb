{
 "cells": [
  {
   "cell_type": "markdown",
   "metadata": {},
   "source": [
    "# Complex Polyhedral Sites Setup and Analysis\n",
    "\n",
    "[TODO]"
   ]
  },
  {
   "cell_type": "code",
   "execution_count": 1,
   "metadata": {},
   "outputs": [],
   "source": [
    "from pymatgen.io.vasp import Poscar, Xdatcar\n",
    "from pymatgen.core import Structure, Lattice\n",
    "import numpy as np\n",
    "from collections import Counter\n",
    "from site_analysis import TrajectoryBuilder"
   ]
  },
  {
   "cell_type": "code",
   "execution_count": 2,
   "metadata": {},
   "outputs": [],
   "source": [
    "# Create a reference structure with the argyrodite topology\n",
    "# with P occupying the t0 tetrahedra\n",
    "# dummy atoms occupying the t1, t2, t3, t4, and t5 tetrahedra\n",
    "# and S occupying all the anion sites\n",
    "\n",
    "lattice = Lattice.cubic(a=10.155)\n",
    "\n",
    "coords = np.array(\n",
    "    [[0.5,     0.5,     0.5],     # P (t0)\n",
    "     [0.9,     0.9,     0.6],     # t1\n",
    "     [0.23,    0.92,    0.09],    # t2\n",
    "     [0.25,    0.25,    0.25],    # t3\n",
    "     [0.15,    0.15,    0.15],    # t4\n",
    "     [0.0,     0.183,   0.183],   # t5\n",
    "     [0.0,     0.0,     0.0],     # S\n",
    "     [0.75,    0.25,    0.25],    # S\n",
    "     [0.11824, 0.11824, 0.38176]] # S\n",
    ") \n",
    "\n",
    "reference_structure = Structure.from_spacegroup(sg=\"F-43m\",\n",
    "                          lattice=lattice,\n",
    "                          species=['P', 'Li', 'Mg', 'Na', 'Be', 'K', 'S', 'S', 'S'],\n",
    "                          coords = coords,) * [2,2,2]"
   ]
  },
  {
   "cell_type": "code",
   "execution_count": 3,
   "metadata": {},
   "outputs": [],
   "source": [
    "# The argyrodite structure contains 6 symmetry inequivalent tetrahedral sites\n",
    "# Type 0 sites are occupied by P.\n",
    "# The other tetrahedral site types are possible sites for occupation by Li\n",
    "# This function uses the site_analysis TrajectoryBuilder to build a Trajectory object\n",
    "# Note the repeated calls to `with_polyhedral_sites` to define each site type.\n",
    "\n",
    "def build_trajectory(structure):\n",
    "    builder = TrajectoryBuilder()\n",
    "    builder.with_reference_structure(reference_structure) # Our reference structure\n",
    "    builder.with_structure(structure) # One of the real structures from the MD trajectory\n",
    "    builder.with_mobile_species('Li')\n",
    "    builder.with_polyhedral_sites( \n",
    "                centre_species = 'Li', # The type 1 sites have Li occupying them in our reference structure\n",
    "                vertex_species = 'S',\n",
    "                cutoff = 3.0,\n",
    "                n_vertices = 4,\n",
    "                label = 'type 1')\n",
    "    builder.with_polyhedral_sites(\n",
    "                centre_species = 'Mg',  # The type 2 sites have Mg occupying them in our reference structure\n",
    "                vertex_species = 'S',\n",
    "                cutoff = 3.0,\n",
    "                n_vertices = 4,\n",
    "                label = 'type 2')\n",
    "    builder.with_polyhedral_sites(\n",
    "                centre_species = 'Na', # The type 3 sites have Na occupying them in our reference structure\n",
    "                vertex_species = 'S',\n",
    "                cutoff = 3.0,\n",
    "                n_vertices = 4,\n",
    "                label = 'type 3')\n",
    "    builder.with_polyhedral_sites(\n",
    "                centre_species = 'Be',  # The type 4 sites have Be occupying them in our reference structure\n",
    "                vertex_species = 'S',\n",
    "                cutoff = 3.0,\n",
    "                n_vertices = 4,\n",
    "                label = 'type 4')\n",
    "    builder.with_polyhedral_sites(\n",
    "                centre_species = 'K',  # The type 5 sites have K occupying them in our reference structure\n",
    "                vertex_species = 'S',\n",
    "                cutoff = 3.0,\n",
    "                n_vertices = 4,\n",
    "                label = 'type 5')\n",
    "    # We align the reference structure with our MD structure using the P positions\n",
    "    builder.with_structure_alignment(align_species='P') \n",
    "    builder.with_site_mapping(mapping_species=['S', 'Cl']) \n",
    "    # The polyhedral sites are internally defined by their vertex atoms\n",
    "    # In the reference structure, the tetrahedral vertices are all S atoms, \n",
    "    # but in the real materials these tetrahedral vertices can be either S or Cl, \n",
    "    # so we perform vertex mapping using both species\n",
    "    trajectory = builder.build()\n",
    "    return trajectory"
   ]
  },
  {
   "cell_type": "code",
   "execution_count": 4,
   "metadata": {},
   "outputs": [],
   "source": [
    "def print_site_occupations(trajectory):\n",
    "    \"\"\"\n",
    "    Print the percentage occupation for each site type in the trajectory.\n",
    "    \n",
    "    Args:\n",
    "        trajectory: A Trajectory object containing atoms and sites information.\n",
    "    \"\"\"\n",
    "    site_types = ['type 5',\n",
    "                  'type 4',\n",
    "                  'type 3',\n",
    "                  'type 2',\n",
    "                  'type 1']\n",
    "    site_labels = []\n",
    "    for atom in trajectory.atoms:\n",
    "        for i in atom.trajectory:\n",
    "            site_labels.append(trajectory.sites[i].label)\n",
    "    \n",
    "    # Initialize counter with zeros for all site types\n",
    "    c = Counter()\n",
    "    for t in site_types:\n",
    "        c[t] = 0\n",
    "    \n",
    "    # Update counter with observed site labels\n",
    "    c.update(site_labels)\n",
    "    \n",
    "    # Calculate and print percentages\n",
    "    total_sites = sum(c.values())\n",
    "    for t in site_types:\n",
    "        print(f'{t}: {(c[t] / total_sites * 100):.2f} %')\n",
    "        \n",
    "  "
   ]
  },
  {
   "cell_type": "code",
   "execution_count": 5,
   "metadata": {},
   "outputs": [
    {
     "name": "stderr",
     "output_type": "stream",
     "text": [
      "100%|█████████████████████████████████████████████████████████████████████| 140/140 [01:28<00:00,  1.58 steps/s]"
     ]
    },
    {
     "name": "stdout",
     "output_type": "stream",
     "text": [
      "type 5: 80.20 %\n",
      "type 4: 0.02 %\n",
      "type 3: 0.00 %\n",
      "type 2: 19.78 %\n",
      "type 1: 0.01 %\n"
     ]
    },
    {
     "name": "stderr",
     "output_type": "stream",
     "text": [
      "\n"
     ]
    }
   ],
   "source": [
    "# Li6PS5Cl fully anion ordered (0% anion site exchange)\n",
    "md_structures = Xdatcar('data/Li6PS5Cl_0p_XDATCAR.gzXDATCAR.gz').structures\n",
    "trajectory = build_trajectory(md_structures[0])\n",
    "trajectory.trajectory_from_structures(md_structures, progress=True)\n",
    "print_site_occupations(trajectory)"
   ]
  },
  {
   "cell_type": "code",
   "execution_count": 6,
   "metadata": {},
   "outputs": [
    {
     "name": "stderr",
     "output_type": "stream",
     "text": [
      "100%|█████████████████████████████████████████████████████████████████████| 140/140 [01:18<00:00,  1.77 steps/s]"
     ]
    },
    {
     "name": "stdout",
     "output_type": "stream",
     "text": [
      "type 5: 65.92 %\n",
      "type 4: 2.63 %\n",
      "type 3: 0.00 %\n",
      "type 2: 31.43 %\n",
      "type 1: 0.02 %\n"
     ]
    },
    {
     "name": "stderr",
     "output_type": "stream",
     "text": [
      "\n"
     ]
    }
   ],
   "source": [
    "# Li6PS5Cl 50% anion site exchange\n",
    "md_structures = Xdatcar('data/Li6PS5Cl_50p_XDATCAR.gzz').structures\n",
    "trajectory = build_trajectory(md_structures[0])\n",
    "trajectory.trajectory_from_structures(md_structures, progress=True)\n",
    "print_site_occupations(trajectory)"
   ]
  },
  {
   "cell_type": "code",
   "execution_count": 7,
   "metadata": {},
   "outputs": [
    {
     "name": "stderr",
     "output_type": "stream",
     "text": [
      "100%|█████████████████████████████████████████████████████████████████████| 140/140 [01:23<00:00,  1.68 steps/s]"
     ]
    },
    {
     "name": "stdout",
     "output_type": "stream",
     "text": [
      "type 5: 53.39 %\n",
      "type 4: 7.33 %\n",
      "type 3: 0.00 %\n",
      "type 2: 39.28 %\n",
      "type 1: 0.00 %\n"
     ]
    },
    {
     "name": "stderr",
     "output_type": "stream",
     "text": [
      "\n"
     ]
    }
   ],
   "source": [
    "# Li6PS5Cl 100% anion site exchange\n",
    "md_structures = Xdatcar('data/Li6PS5Cl_100p_XDATCAR.gz').structures\n",
    "trajectory = build_trajectory(md_structures[0])\n",
    "trajectory.trajectory_from_structures(md_structures, progress=True)\n",
    "print_site_occupations(trajectory)"
   ]
  }
 ],
 "metadata": {
  "kernelspec": {
   "display_name": "Python 3 (ipykernel)",
   "language": "python",
   "name": "python3"
  },
  "language_info": {
   "codemirror_mode": {
    "name": "ipython",
    "version": 3
   },
   "file_extension": ".py",
   "mimetype": "text/x-python",
   "name": "python",
   "nbconvert_exporter": "python",
   "pygments_lexer": "ipython3",
   "version": "3.11.1"
  }
 },
 "nbformat": 4,
 "nbformat_minor": 2
}
